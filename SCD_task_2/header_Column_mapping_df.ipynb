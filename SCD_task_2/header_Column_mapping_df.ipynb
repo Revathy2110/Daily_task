{
 "cells": [
  {
   "cell_type": "code",
   "execution_count": 0,
   "metadata": {
    "application/vnd.databricks.v1+cell": {
     "cellMetadata": {
      "byteLimit": 2048000,
      "rowLimit": 10000
     },
     "inputWidgets": {},
     "nuid": "9dfdf20e-5bbc-466b-ab55-00ed8d58c3c8",
     "showTitle": false,
     "tableResultSettingsMap": {},
     "title": ""
    }
   },
   "outputs": [],
   "source": [
    "%pip install openpyxl"
   ]
  },
  {
   "cell_type": "code",
   "execution_count": 0,
   "metadata": {
    "application/vnd.databricks.v1+cell": {
     "cellMetadata": {
      "byteLimit": 2048000,
      "rowLimit": 10000
     },
     "inputWidgets": {},
     "nuid": "6748c904-3f1c-4fbe-aa15-5b07f8c11406",
     "showTitle": false,
     "tableResultSettingsMap": {},
     "title": ""
    }
   },
   "outputs": [],
   "source": [
    "dbutils.library.restartPython()"
   ]
  },
  {
   "cell_type": "code",
   "execution_count": 0,
   "metadata": {
    "application/vnd.databricks.v1+cell": {
     "cellMetadata": {
      "byteLimit": 2048000,
      "rowLimit": 10000
     },
     "inputWidgets": {},
     "nuid": "8f47496c-86ed-4b41-8f98-6f9718feecd3",
     "showTitle": false,
     "tableResultSettingsMap": {},
     "title": ""
    }
   },
   "outputs": [],
   "source": [
    "from pyspark.sql.functions import col,lit, current_date, split\n",
    "from pyspark.sql.types import *\n",
    "import pandas as pd\n",
    "import re"
   ]
  },
  {
   "cell_type": "code",
   "execution_count": 0,
   "metadata": {
    "application/vnd.databricks.v1+cell": {
     "cellMetadata": {
      "byteLimit": 2048000,
      "rowLimit": 10000
     },
     "inputWidgets": {},
     "nuid": "affe610b-1391-4fc3-aef7-766714f2048c",
     "showTitle": false,
     "tableResultSettingsMap": {},
     "title": ""
    }
   },
   "outputs": [],
   "source": [
    "# %fs ls \"dbfs:/FileStore/shared_uploads/revathy.s@diggibyte.com/tmp/\""
   ]
  },
  {
   "cell_type": "code",
   "execution_count": 0,
   "metadata": {
    "application/vnd.databricks.v1+cell": {
     "cellMetadata": {
      "byteLimit": 2048000,
      "rowLimit": 10000
     },
     "inputWidgets": {},
     "nuid": "3e773419-39db-4069-a7bd-d5407bfca88e",
     "showTitle": false,
     "tableResultSettingsMap": {},
     "title": ""
    }
   },
   "outputs": [],
   "source": [
    "excel_file_path = \"/dbfs/FileStore/shared_uploads/revathy.s@diggibyte.com/tmp/sample_data_one_translated_bkp.xlsx\"\n",
    "\n",
    "df = pd.read_excel(excel_file_path, header = [0,1,2])\n",
    "                                      \n",
    "for col in df.columns:\n",
    "    if df[col].dtype == \"object\":\n",
    "        df[col] = df[col].astype(str)\n",
    "    if df[col].dtype == \"float\":\n",
    "        df[col] = df[col].astype(float)       \n",
    "\n",
    "spark_df = spark.createDataFrame(df)\n",
    "\n",
    "def clean_column_name(col_name):\n",
    "    return re.sub(r\"[(')]\", \"\", col_name).replace(\",\", \"\").strip()\n",
    "\n",
    "df_cleaned = spark_df.toDF(*[clean_column_name(col) for col in spark_df.columns])\n",
    "\n",
    "df_renamed = df_cleaned.toDF(*[col.replace(\"Model\", \"\").lstrip() for col in df_cleaned.columns])\n",
    "\n",
    "df_new = df_renamed.withColumnRenamed(\"Unnamed: 0_level_1 Unnamed: 0_level_2\", \"Model\")\n",
    "\n",
    "df_selected =df_new.drop(\"Total turnover Unnamed: 14_level_1 TOTAL\",\\\n",
    "                            \"4627500 Unnamed: 15_level_1 unit price\", \\\n",
    "                            \"4627500 Unnamed: 16_level_1 The total amount\",\\\n",
    "                            \"4627500 Unnamed: 17_level_1 Inventory at the end of the month\\nCompany-wide\",\\\n",
    "                            \"Unnamed: 18_level_1 Unnamed: 18_level_2\")\\\n",
    "\n",
    "df_modified = df_selected.toDF(*[col.replace(\" \", \"_\") for col in df_selected.columns])\n",
    "                            \n",
    "# display(df_modified)"
   ]
  },
  {
   "cell_type": "code",
   "execution_count": 0,
   "metadata": {
    "application/vnd.databricks.v1+cell": {
     "cellMetadata": {
      "byteLimit": 2048000,
      "rowLimit": 10000
     },
     "inputWidgets": {},
     "nuid": "8776a6fc-ab12-4bf7-8ac9-2497ceb20a32",
     "showTitle": false,
     "tableResultSettingsMap": {},
     "title": ""
    }
   },
   "outputs": [],
   "source": [
    "final_df = df_modified.replace(\"nan\", None)\\\n",
    "            .filter(col(\"Model\").isNotNull())\\\n",
    "            .select(*[col(c).cast(DoubleType()) if c != \"Model\" else col(c) for c in df_modified.columns])"
   ]
  },
  {
   "cell_type": "code",
   "execution_count": 0,
   "metadata": {
    "application/vnd.databricks.v1+cell": {
     "cellMetadata": {
      "byteLimit": 2048000,
      "rowLimit": 10000
     },
     "inputWidgets": {},
     "nuid": "e9b9979a-7b9f-48b2-8389-53a5c0f7532f",
     "showTitle": false,
     "tableResultSettingsMap": {},
     "title": ""
    }
   },
   "outputs": [],
   "source": [
    "unpivoted = final_df.selectExpr(\n",
    "    \"Model\",\n",
    "    \"stack(13, \" +\n",
    "    \"'Shinko_Mitsukoshi_Taichung', `Shinko_Mitsukoshi_Taichung`, \" +\n",
    "    \"'Shinko_Mitsukoshi_North_Station', `Shinko_Mitsukoshi_North_Station`, \" +\n",
    "    \"'Shinko_Mitsukoshi_Peach_Station', `Shinko_Mitsukoshi_Peach_Station`, \" +\n",
    "    \"'Shinko_Mitsukoshi_Chiayi', `Shinko_Mitsukoshi_Chiayi`, \" +\n",
    "    \"'Shinko_Mitsukoshi_Simon', `Shinko_Mitsukoshi_Simon`, \" +\n",
    "    \"'Shinko_Mitsukoshi_Left_Battalion', `Shinko_Mitsukoshi_Left_Battalion`, \" +\n",
    "    \"'Shinko_Mitsukoshi_A8', `Shinko_Mitsukoshi_A8`, \" +\n",
    "    \"'Shinko_Mitsukoshi_Heavenly_Mother', `Shinko_Mitsukoshi_Heavenly_Mother`, \" +\n",
    "    \"'SOGO_Revival', `SOGO_Revival`, \" +\n",
    "    \"'SOGO_Hsinchu', `SOGO_Hsinchu`, \" +\n",
    "    \"'Taipei_Three_creations', `Taipei_Three_creations`, \" +\n",
    "    \"'outlet_Tainan', `outlet_Tainan`, \" +\n",
    "    \"'outlet_Kaohsiung', `outlet_Kaohsiung`\" +\n",
    "    \") as (store_name, sales_qty)\"\n",
    ")\n",
    "\n",
    "df1 = unpivoted.withColumn(\"Country\", lit(\"Taiwan\"))\\\n",
    "    .withColumn(\"Key_account\", lit(\"Gaston\"))\\\n",
    "    .withColumn(\"load_date\", current_date())\\\n",
    "    .withColumnRenamed(\"Model\", \"Product_code\")\n",
    "\n",
    "df_mapped = df1.withColumn(\"load_date\", col(\"load_date\").cast(\"date\"))\\\n",
    "    .withColumn(\"year\", split(col(\"load_date\").cast(\"string\"), \"-\").getItem(0))\\\n",
    "    .withColumn(\"month\", split(col(\"load_date\").cast(\"string\"), \"-\").getItem(1))\\\n",
    "    .withColumn(\"day\", split(col(\"load_date\").cast(\"string\"), \"-\").getItem(2))\\\n",
    "    .drop(\"load_date\")\n",
    "\n",
    "df1_mapped = df_mapped.filter(col(\"sales_qty\").isNotNull())"
   ]
  }
 ],
 "metadata": {
  "application/vnd.databricks.v1+notebook": {
   "computePreferences": null,
   "dashboards": [],
   "environmentMetadata": {
    "base_environment": "",
    "client": "1"
   },
   "language": "python",
   "notebookMetadata": {
    "mostRecentlyExecutedCommandWithImplicitDF": {
     "commandId": -1,
     "dataframes": [
      "_sqldf"
     ]
    },
    "pythonIndentUnit": 4
   },
   "notebookName": "header_Column_mapping_df",
   "widgets": {}
  },
  "language_info": {
   "name": "python"
  }
 },
 "nbformat": 4,
 "nbformat_minor": 0
}
