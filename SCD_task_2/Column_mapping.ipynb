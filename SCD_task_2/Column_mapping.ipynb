{
 "cells": [
  {
   "cell_type": "code",
   "execution_count": 0,
   "metadata": {
    "application/vnd.databricks.v1+cell": {
     "cellMetadata": {
      "byteLimit": 2048000,
      "rowLimit": 10000
     },
     "inputWidgets": {},
     "nuid": "8f47496c-86ed-4b41-8f98-6f9718feecd3",
     "showTitle": false,
     "tableResultSettingsMap": {},
     "title": ""
    }
   },
   "outputs": [],
   "source": [
    "from pyspark.sql.functions import *\n",
    "from pyspark.sql.types import *\n",
    "import pandas as pd"
   ]
  },
  {
   "cell_type": "code",
   "execution_count": 0,
   "metadata": {
    "application/vnd.databricks.v1+cell": {
     "cellMetadata": {
      "byteLimit": 2048000,
      "rowLimit": 10000
     },
     "inputWidgets": {},
     "nuid": "b46f0ef6-29dc-4122-9670-1939f734cdff",
     "showTitle": false,
     "tableResultSettingsMap": {},
     "title": ""
    }
   },
   "outputs": [],
   "source": [
    "%pip install openpyxl"
   ]
  },
  {
   "cell_type": "code",
   "execution_count": 0,
   "metadata": {
    "application/vnd.databricks.v1+cell": {
     "cellMetadata": {
      "byteLimit": 2048000,
      "rowLimit": 10000
     },
     "inputWidgets": {},
     "nuid": "8b92bb97-08a6-4d6e-96bf-b47f9572b5c2",
     "showTitle": false,
     "tableResultSettingsMap": {},
     "title": ""
    }
   },
   "outputs": [],
   "source": [
    "dbutils.library.restartPython()"
   ]
  },
  {
   "cell_type": "code",
   "execution_count": 0,
   "metadata": {
    "application/vnd.databricks.v1+cell": {
     "cellMetadata": {
      "byteLimit": 2048000,
      "rowLimit": 10000
     },
     "inputWidgets": {},
     "nuid": "f14d7ade-c9d1-4e75-97c9-96afeb29e985",
     "showTitle": false,
     "tableResultSettingsMap": {},
     "title": ""
    }
   },
   "outputs": [],
   "source": [
    "file_path = \"/dbfs/FileStore/shared_uploads/revathy.s@diggibyte.com/tmp/sample_data_one_translated-1.xlsx\"\n",
    "\n",
    "df = pd.read_excel(file_path, header=[0, 1]) \n",
    "\n",
    "# Flatten column headers \n",
    "df.columns = ['_'.join(map(str, col)).strip('_') for col in df.columns]\n",
    "\n",
    "df.rename(columns={df.columns[0]: \"Model\"}, inplace=True)\n",
    "\n",
    "df = df.dropna(how='all')\n",
    "\n",
    "for col in df.columns:\n",
    "    if col != \"Model\":\n",
    "        df[col] = pd.to_numeric(df[col], errors='coerce')\n",
    "\n",
    "display(df)\n"
   ]
  },
  {
   "cell_type": "code",
   "execution_count": 0,
   "metadata": {
    "application/vnd.databricks.v1+cell": {
     "cellMetadata": {
      "byteLimit": 2048000,
      "rowLimit": 10000
     },
     "inputWidgets": {},
     "nuid": "269159ec-c9a6-4751-a362-8275361b58e4",
     "showTitle": false,
     "tableResultSettingsMap": {},
     "title": ""
    }
   },
   "outputs": [],
   "source": [
    "spark_df = spark.createDataFrame(df)\n",
    "spark_df.printSchema()"
   ]
  },
  {
   "cell_type": "code",
   "execution_count": 0,
   "metadata": {
    "application/vnd.databricks.v1+cell": {
     "cellMetadata": {
      "byteLimit": 2048000,
      "rowLimit": 10000
     },
     "inputWidgets": {},
     "nuid": "817b229e-47da-4232-849e-ba98eb8a0bdd",
     "showTitle": false,
     "tableResultSettingsMap": {},
     "title": ""
    }
   },
   "outputs": [],
   "source": [
    "df_selected =spark_df.drop(\"Total turnover_TOTAL\", \"4627500_unit price\", \"4627500_The total amount\", \"4627500_Inventory at the end of the month (Company-wide)\",\"Model_Unnamed: 18_level_1\")\n",
    "\n",
    "df_filtered = df_selected.filter(col(\"Model\").isNotNull())\n",
    "\n",
    "display(df_filtered)"
   ]
  },
  {
   "cell_type": "code",
   "execution_count": 0,
   "metadata": {
    "application/vnd.databricks.v1+cell": {
     "cellMetadata": {
      "byteLimit": 2048000,
      "rowLimit": 10000
     },
     "inputWidgets": {},
     "nuid": "e9b9979a-7b9f-48b2-8389-53a5c0f7532f",
     "showTitle": false,
     "tableResultSettingsMap": {},
     "title": ""
    }
   },
   "outputs": [],
   "source": [
    "%python\n",
    "unpivoted = df_filtered.selectExpr(\n",
    "    \"Model\",\n",
    "    \"stack(13, \" +\n",
    "    \"'Shinko Mitsukoshi_Taichung', `Shinko Mitsukoshi_Taichung`, \" +\n",
    "    \"'Shinko Mitsukoshi_North Station', `Shinko Mitsukoshi_North Station`, \" +\n",
    "    \"'Shinko Mitsukoshi_Peach Station', `Shinko Mitsukoshi_Peach Station`, \" +\n",
    "    \"'Shinko Mitsukoshi_Chiayi', `Shinko Mitsukoshi_Chiayi`, \" +\n",
    "    \"'Shinko Mitsukoshi_Simon', `Shinko Mitsukoshi_Simon`, \" +\n",
    "    \"'Shinko Mitsukoshi_Left Battalion', `Shinko Mitsukoshi_Left Battalion`, \" +\n",
    "    \"'Shinko Mitsukoshi_A8', `Shinko Mitsukoshi_A8`, \" +\n",
    "    \"'Shinko Mitsukoshi_Heavenly Mother', `Shinko Mitsukoshi_Heavenly Mother`, \" +\n",
    "    \"'SOGO_Revival', `SOGO_Revival`, \" +\n",
    "    \"'SOGO_Hsinchu', `SOGO_Hsinchu`, \" +\n",
    "    \"'Taipei_Three creations', `Taipei_Three creations`, \" +\n",
    "    \"'outlet_Tainan', `outlet_Tainan`, \" +\n",
    "    \"'outlet_Kaohsiung', `outlet_Kaohsiung`\" +\n",
    "    \") as (store_name, sales_qty)\"\n",
    ")\n",
    "\n",
    "final_df = unpivoted.withColumn(\"Country\", lit(\"Taiwan\"))\\\n",
    "    .withColumn(\"Key_account\", lit(\"Gaston\"))\\\n",
    "        .withColumn(\"load_date\", current_date())\\\n",
    "            .withColumnRenamed(\"Model\", \"Product_code\")\n",
    "\n",
    "# display(final_df)"
   ]
  },
  {
   "cell_type": "code",
   "execution_count": 0,
   "metadata": {
    "application/vnd.databricks.v1+cell": {
     "cellMetadata": {
      "byteLimit": 2048000,
      "rowLimit": 10000
     },
     "inputWidgets": {},
     "nuid": "aca82d79-3be1-499b-984e-bbef4e28bdf7",
     "showTitle": false,
     "tableResultSettingsMap": {},
     "title": ""
    }
   },
   "outputs": [],
   "source": [
    "\n",
    "final_df = final_df.withColumn(\"load_date\", col(\"load_date\").cast(\"date\"))\\\n",
    "    .withColumn(\"year\", split(col(\"load_date\").cast(\"string\"), \"-\").getItem(0))\\\n",
    "    .withColumn(\"month\", split(col(\"load_date\").cast(\"string\"), \"-\").getItem(1))\\\n",
    "    .withColumn(\"day\", split(col(\"load_date\").cast(\"string\"), \"-\").getItem(2))\\\n",
    "    .drop(\"load_date\")\n",
    "\n",
    "df = final_df.filter(col(\"sales_qty\").isNotNull())\n",
    "\n",
    "# display(df)"
   ]
  }
 ],
 "metadata": {
  "application/vnd.databricks.v1+notebook": {
   "computePreferences": null,
   "dashboards": [],
   "environmentMetadata": {
    "base_environment": "",
    "client": "1"
   },
   "language": "python",
   "notebookMetadata": {
    "mostRecentlyExecutedCommandWithImplicitDF": {
     "commandId": 5989777782982681,
     "dataframes": [
      "_sqldf"
     ]
    },
    "pythonIndentUnit": 4
   },
   "notebookName": "Column_mapping",
   "widgets": {}
  },
  "language_info": {
   "name": "python"
  }
 },
 "nbformat": 4,
 "nbformat_minor": 0
}
